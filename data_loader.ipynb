{
 "cells": [
  {
   "cell_type": "markdown",
   "metadata": {},
   "source": [
    "# Aerial and segmented/original BGT viewer"
   ]
  },
  {
   "cell_type": "code",
   "execution_count": null,
   "metadata": {},
   "outputs": [],
   "source": [
    "import errno\n",
    "from __future__ import print_function\n",
    "from ipywidgets import interact\n",
    "import ipywidgets as widgets\n",
    "\n",
    "from IPython.core.display import display, HTML\n",
    "display(HTML(\"<style>.container { width:80% !important; }</style>\"))\n",
    "\n",
    "import matplotlib.gridspec as gridspec\n",
    "import matplotlib.pyplot as plt\n",
    "from mpl_toolkits.axes_grid1 import make_axes_locatable\n",
    "import numpy as np\n",
    "import os\n",
    "from skimage.io import imread, imshow"
   ]
  },
  {
   "cell_type": "code",
   "execution_count": null,
   "metadata": {},
   "outputs": [],
   "source": [
    "# Define data directory\n",
    "data_dir = os.path.join('/Volumes','Elements','output')\n",
    "\n",
    "try:\n",
    "    os.listdir(data_dir)\n",
    "    \n",
    "    sample_dirs = sorted(next(os.walk(data_dir))[1])\n",
    "    image = 'aerial_image_full.tif'\n",
    "    bgt_labels = 'bgt_labels.tif'\n",
    "    bgt_path = os.path.join('bgt', 'bgt.shp')\n",
    "    bgt_data = os.path.join('bgt', 'bgt.dbf')\n",
    "except OSError as e:\n",
    "    print('Error: Data directory:',data_dir,'not found.')"
   ]
  },
  {
   "cell_type": "code",
   "execution_count": null,
   "metadata": {},
   "outputs": [],
   "source": [
    "# Custom labels and colormap\n",
    "from matplotlib import colors\n",
    "import matplotlib as mpl\n",
    "\n",
    "labelmap = ['undefined',\n",
    "            'watervlakte',\n",
    "            'greppel, droge sloot',\n",
    "            'transitie',\n",
    "            'waterloop',\n",
    "            'pand',\n",
    "            'baan voor vliegverkeer',\n",
    "            'fietspad',\n",
    "            'inrit',\n",
    "            'OV-baan',\n",
    "            'overweg',\n",
    "            'parkeervlak',\n",
    "            'rijbaan autosnelweg',\n",
    "            'rijbaan autoweg',\n",
    "            'rijbaan lokale weg',\n",
    "            'rijbaan regionale weg',\n",
    "            'ruiterpad',\n",
    "            'spoorbaan',\n",
    "            'voetgangersgebied',\n",
    "            'voetpad',\n",
    "            'voetpad op trap',\n",
    "            'woonerf']\n",
    "\n",
    "cmap =  mpl.colors.ListedColormap([\n",
    "    'xkcd:pale grey',\n",
    "    'xkcd:sea blue',    \n",
    "    'xkcd:powder blue',\n",
    "    \"xkcd:robin's egg\",\n",
    "    'xkcd:azure',\n",
    "    'xkcd:reddish brown',\n",
    "    'xkcd:silver',\n",
    "    'xkcd:macaroni and cheese',\n",
    "    'xkcd:light blue grey',\n",
    "    'xkcd:dirty yellow',\n",
    "    'xkcd:light grey',\n",
    "    'xkcd:grape',\n",
    "    'xkcd:ivory', # 1\n",
    "    'xkcd:puke',\n",
    "    'xkcd:light tan',\n",
    "    'xkcd:buff',\n",
    "    'xkcd:pumpkin',\n",
    "    'xkcd:charcoal',\n",
    "    'xkcd:dark sand',\n",
    "    'xkcd:cement',\n",
    "    'xkcd:mushroom',\n",
    "    'xkcd:tan green'\n",
    "    ])"
   ]
  },
  {
   "cell_type": "markdown",
   "metadata": {},
   "source": [
    "## Aerial image and segmented BGT viewer"
   ]
  },
  {
   "cell_type": "code",
   "execution_count": null,
   "metadata": {
    "scrolled": false
   },
   "outputs": [],
   "source": [
    "plt.close(\"all\")\n",
    "%matplotlib notebook\n",
    "fig = plt.figure(figsize=(16, 8))\n",
    "grid = gridspec.GridSpec(1, 2, figure=fig, width_ratios=[1,1.07])\n",
    "\n",
    "# Aerial Image\n",
    "ax1 = fig.add_subplot(grid[0, 0])\n",
    "ax1.get_xaxis().set_ticks([])\n",
    "ax1.get_yaxis().set_ticks([])\n",
    "\n",
    "# BGT Labels Image\n",
    "ax2 = fig.add_subplot(grid[0, 1], sharex=ax1, sharey=ax1)\n",
    "ax2.get_xaxis().set_ticks([])\n",
    "ax2.get_yaxis().set_ticks([])\n",
    "\n",
    "#grid.tight_layout(fig)\n",
    "sample_selector = widgets.Dropdown(\n",
    "                    options=sample_dirs,\n",
    "                    value=sample_dirs[0],\n",
    "                    description='Sample: ',\n",
    "                    disabled=False,\n",
    "                    layout=widgets.Layout(margin = '0px 0px 0px 250px'))\n",
    "\n",
    "bounds=np.arange(0,22)\n",
    "norm = mpl.colors.BoundaryNorm(bounds, cmap.N)\n",
    "\n",
    "@interact(sample=sample_selector)\n",
    "def show_image(sample):\n",
    "    # Aerial Image\n",
    "    img = imread(os.path.join(data_dir,sample,image))\n",
    "    ax1.imshow(img, cmap='gray')\n",
    "    ax1.set_title(image)\n",
    "    \n",
    "    # BGT Labels Image\n",
    "    labels = imread(os.path.join(data_dir,sample, bgt_labels)).astype(np.uint8)\n",
    "    ims = ax2.imshow(labels, cmap=cmap)\n",
    "    ax2.set_title(bgt_labels)\n",
    "    \n",
    "    # Colorbar\n",
    "    divider = make_axes_locatable(ax2)\n",
    "    cbar_ax = divider.append_axes(\"right\", \"5%\", pad=\"2%\")\n",
    "    cbar = fig.colorbar(ims, cax=cbar_ax,  cmap=cmap, norm=norm, \n",
    "                        boundaries=[-10] + bounds + [10], ticks=bounds +0.5,\n",
    "                        spacing='uniform')\n",
    "    cbar.ax.set_yticklabels(labelmap)\n",
    "    \n",
    "    grid.tight_layout(fig)\n",
    "    plt.show()"
   ]
  },
  {
   "cell_type": "markdown",
   "metadata": {},
   "source": [
    "## BGT Shape file loader"
   ]
  },
  {
   "cell_type": "code",
   "execution_count": null,
   "metadata": {},
   "outputs": [],
   "source": [
    "import geopandas as gp\n",
    "shape_path = os.path.join(data_dir, sample_dirs[0],bgt_path)\n",
    "patch = gp.GeoDataFrame.from_file(shape_path)\n",
    "patch.head()"
   ]
  },
  {
   "cell_type": "code",
   "execution_count": null,
   "metadata": {
    "scrolled": false
   },
   "outputs": [],
   "source": [
    "plt.close(\"all\")\n",
    "import geopandas as gp\n",
    "%matplotlib inline\n",
    "plt.rcParams['figure.figsize'] = (18,18)\n",
    "\n",
    "from IPython.core.display import display, HTML\n",
    "display(HTML(\"<style>.container { width:80% !important; }</style>\"))\n",
    "\n",
    "from __future__ import print_function\n",
    "from ipywidgets import interact\n",
    "import ipywidgets as widgets\n",
    "\n",
    "def plot_bgt(patch_nr):\n",
    "    shape_path = os.path.join(data_dir, sample_dirs[patch_nr],bgt_path)\n",
    "    patch = gp.GeoDataFrame.from_file(shape_path)\n",
    "    patch.plot(column='category', cmap=cmap)\n",
    "    plt.axis('off')\n",
    "\n",
    "interact(plot_bgt, patch_nr=widgets.IntSlider(min=0,max=len(sample_dirs),step=1,value=0), continuous_update=False);"
   ]
  },
  {
   "cell_type": "code",
   "execution_count": null,
   "metadata": {},
   "outputs": [],
   "source": []
  }
 ],
 "metadata": {
  "kernelspec": {
   "display_name": "Python RWS2",
   "language": "python",
   "name": "rws2"
  },
  "language_info": {
   "codemirror_mode": {
    "name": "ipython",
    "version": 3
   },
   "file_extension": ".py",
   "mimetype": "text/x-python",
   "name": "python",
   "nbconvert_exporter": "python",
   "pygments_lexer": "ipython3",
   "version": "3.5.5"
  }
 },
 "nbformat": 4,
 "nbformat_minor": 2
}
